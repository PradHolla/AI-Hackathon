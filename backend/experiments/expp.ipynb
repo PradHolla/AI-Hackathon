{
 "cells": [
  {
   "cell_type": "code",
   "execution_count": 2,
   "metadata": {},
   "outputs": [],
   "source": [
    "import boto3\n",
    "import base64\n",
    "import json\n",
    "from pathlib import Path\n",
    "from langchain_aws import ChatBedrock\n",
    "from langchain_core.messages import HumanMessage, SystemMessage, AIMessage\n",
    "from langchain_core.prompts import ChatPromptTemplate, MessagesPlaceholder, SystemMessagePromptTemplate"
   ]
  },
  {
   "cell_type": "code",
   "execution_count": 3,
   "metadata": {},
   "outputs": [],
   "source": [
    "# Initialize the Textract client\n",
    "textract = boto3.client('textract')\n",
    "\n",
    "llm = ChatBedrock(model=\"us.meta.llama3-2-90b-instruct-v1:0\")"
   ]
  },
  {
   "cell_type": "code",
   "execution_count": 4,
   "metadata": {},
   "outputs": [],
   "source": [
    "# Read the local file\n",
    "with open('myopd-sample-rx-eng.png', 'rb') as file:\n",
    "    image_bytes = file.read()\n",
    "\n",
    "# Call Textract API\n",
    "response = textract.detect_document_text(\n",
    "    Document={'Bytes': image_bytes}\n",
    "    )"
   ]
  },
  {
   "cell_type": "code",
   "execution_count": 5,
   "metadata": {},
   "outputs": [
    {
     "name": "stdout",
     "output_type": "stream",
     "text": [
      "Dr. Onkar Bhave\n",
      "Care Clinic\n",
      "M.B.B.S., M.D., M.S. I Reg. No: 270988 I\n",
      "Near Axis Bank, Kothrud, Pune -\n",
      "Mob. No: 8983390126\n",
      "411038\n",
      "LOREM IPSUM\n",
      "Ph: 094233 80390, Timing: 09:00\n",
      "AM - 02:00 PM I Closed: Thursday\n",
      "Date: 27-Apr-2020, 04:37 PM\n",
      "ID: 266 - DEMO PATIENT (M)\n",
      "Address: PUNE\n",
      "Temp (deg): 36, BP: 120/80 mmHg\n",
      "R\n",
      "Medicine Name\n",
      "Dosage\n",
      "Duration\n",
      "1) TAB. DEMO MEDICINE 1\n",
      "1 Morning, 1 Night\n",
      "10 Days\n",
      "(Before Food)\n",
      "(Tot:20 Tab)\n",
      "2) CAP. DEMO MEDICINE 2\n",
      "1 Morning, 1 Night\n",
      "10 Days\n",
      "(Before Food)\n",
      "(Tot:20 Cap)\n",
      "3) TAB. DEMO MEDICINE 3\n",
      "1 Morning, 1 Aft, 1 Eve, 1 Night\n",
      "10 Days\n",
      "(After Food)\n",
      "(Tot:40 Tab)\n",
      "4) TAB. DEMO MEDICINE 4\n",
      "1/2 Morning, 1/2 Night\n",
      "10 Days\n",
      "(After Food)\n",
      "(Tot:10 Tab)\n",
      "Advice Given:\n",
      "* AVOID OILY AND SPICY FOOD\n",
      "Follow Up: 12-05-2020\n",
      "Charts\n",
      "40\n",
      "17\n",
      "140\n",
      "120\n",
      "129\n",
      "120\n",
      "35\n",
      "120\n",
      "30\n",
      "100\n",
      "90\n",
      "as\n",
      ".\n",
      "80\n",
      "20\n",
      "60\n",
      "10\n",
      "40\n",
      "20\n",
      "0\n",
      "0\n",
      "23-02- 09-03- 22-01- 05-04- 19-04- 03-05- 17-05-\n",
      "23-02- 08-03- 22-03- 05-44 19.44 03-45 17-05\n",
      "2020 2020 2020 2020 2020 2020 2020\n",
      "2820 2520 2020 2020 2020 2020 2020\n",
      "Date\n",
      "Date\n",
      "Signature\n",
      "Dr. Onkar Bhave\n",
      "M.B.B.S., M.D., M.S.\n",
      "\n"
     ]
    }
   ],
   "source": [
    "# Extract the text from the response\n",
    "extracted_text = ''\n",
    "for item in response['Blocks']:\n",
    "    if item['BlockType'] == 'LINE':\n",
    "        extracted_text += item['Text'] + '\\n'\n",
    "print(extracted_text)"
   ]
  },
  {
   "cell_type": "code",
   "execution_count": 6,
   "metadata": {},
   "outputs": [],
   "source": [
    "response = textract.analyze_document(\n",
    "    Document={'Bytes': image_bytes},\n",
    "    FeatureTypes=['TABLES']\n",
    ")"
   ]
  },
  {
   "cell_type": "code",
   "execution_count": 7,
   "metadata": {},
   "outputs": [
    {
     "name": "stdout",
     "output_type": "stream",
     "text": [
      "Table 1:\n",
      "Medicine Name,Dosage,Duration\n",
      "1) TAB. DEMO MEDICINE 1,1 Morning, 1 Night (Before Food),10 Days (Tot:20 Tab)\n",
      "2) CAP. DEMO MEDICINE 2,1 Morning, 1 Night (Before Food),10 Days (Tot:20 Cap)\n",
      "3) TAB. DEMO MEDICINE 3,1 Morning, 1 Aft, 1 Eve, 1 Night (After Food),10 Days (Tot:40 Tab)\n",
      "4) TAB. DEMO MEDICINE 4,1/2 Morning, 1/2 Night (After Food),10 Days (Tot:10 Tab)\n"
     ]
    }
   ],
   "source": [
    "def get_table_data(response):\n",
    "    blocks = response['Blocks']\n",
    "    blocks_map = {}\n",
    "    table_blocks = []\n",
    "    \n",
    "    # Map block IDs to blocks\n",
    "    for block in blocks:\n",
    "        blocks_map[block['Id']] = block\n",
    "        if block['BlockType'] == \"TABLE\":\n",
    "            table_blocks.append(block)\n",
    "    \n",
    "    if len(table_blocks) <= 0:\n",
    "        return []  # Return empty list if no tables found\n",
    "    \n",
    "    # List to store all tables\n",
    "    all_tables = []\n",
    "    \n",
    "    # Process each table\n",
    "    for table_index, table in enumerate(table_blocks):\n",
    "        # Get rows and columns\n",
    "        rows = {}\n",
    "        for relationship in table['Relationships']:\n",
    "            if relationship['Type'] == 'CHILD':\n",
    "                for child_id in relationship['Ids']:\n",
    "                    cell = blocks_map[child_id]\n",
    "                    if cell['BlockType'] == 'CELL':\n",
    "                        row_index = cell['RowIndex']\n",
    "                        col_index = cell['ColumnIndex']\n",
    "                        if row_index not in rows:\n",
    "                            rows[row_index] = {}\n",
    "                        \n",
    "                        # Get text from cell\n",
    "                        text = \"\"\n",
    "                        if 'Relationships' in cell:\n",
    "                            for rel in cell['Relationships']:\n",
    "                                if rel['Type'] == 'CHILD':\n",
    "                                    for word_id in rel['Ids']:\n",
    "                                        word = blocks_map[word_id]\n",
    "                                        if word['BlockType'] == 'WORD':\n",
    "                                            text += word['Text'] + ' '\n",
    "                        \n",
    "                        rows[row_index][col_index] = text.strip()\n",
    "        \n",
    "        # Convert to list of lists format\n",
    "        table_data = []\n",
    "        for row_index in sorted(rows.keys()):\n",
    "            row_data = []\n",
    "            for col_index in sorted(rows[row_index].keys()):\n",
    "                row_data.append(rows[row_index][col_index])\n",
    "            table_data.append(row_data)\n",
    "        \n",
    "        all_tables.append(table_data)\n",
    "    \n",
    "    return all_tables\n",
    "\n",
    "# Call the function with the response\n",
    "tables = get_table_data(response)\n",
    "\n",
    "# Now you can use the returned data however you want\n",
    "for i, table in enumerate(tables):\n",
    "    print(f\"Table {i + 1}:\")\n",
    "    for row in table:\n",
    "        print(\",\".join(row))\n"
   ]
  },
  {
   "cell_type": "code",
   "execution_count": 8,
   "metadata": {},
   "outputs": [
    {
     "name": "stdout",
     "output_type": "stream",
     "text": [
      "Table 1:\n",
      "Medicine Name,Dosage,Duration,\n",
      "1) TAB. DEMO MEDICINE 1,1 Morning, 1 Night (Before Food),10 Days (Tot:20 Tab),\n",
      "2) CAP. DEMO MEDICINE 2,1 Morning, 1 Night (Before Food),10 Days (Tot:20 Cap),\n",
      "3) TAB. DEMO MEDICINE 3,1 Morning, 1 Aft, 1 Eve, 1 Night (After Food),10 Days (Tot:40 Tab),\n",
      "4) TAB. DEMO MEDICINE 4,1/2 Morning, 1/2 Night (After Food),10 Days (Tot:10 Tab),\n",
      "\n"
     ]
    }
   ],
   "source": [
    "def get_table_data_as_string(response):\n",
    "    blocks = response['Blocks']\n",
    "    blocks_map = {}\n",
    "    table_blocks = []\n",
    "    \n",
    "    # Map block IDs to blocks\n",
    "    for block in blocks:\n",
    "        blocks_map[block['Id']] = block\n",
    "        if block['BlockType'] == \"TABLE\":\n",
    "            table_blocks.append(block)\n",
    "    \n",
    "    if len(table_blocks) <= 0:\n",
    "        return \"No tables found\"\n",
    "    \n",
    "    # String to store all table data\n",
    "    result_string = \"\"\n",
    "    \n",
    "    # Process each table\n",
    "    for table_index, table in enumerate(table_blocks):\n",
    "        result_string += f\"Table {table_index + 1}:\\n\"\n",
    "        \n",
    "        # Get rows and columns\n",
    "        rows = {}\n",
    "        for relationship in table['Relationships']:\n",
    "            if relationship['Type'] == 'CHILD':\n",
    "                for child_id in relationship['Ids']:\n",
    "                    cell = blocks_map[child_id]\n",
    "                    if cell['BlockType'] == 'CELL':\n",
    "                        row_index = cell['RowIndex']\n",
    "                        col_index = cell['ColumnIndex']\n",
    "                        if row_index not in rows:\n",
    "                            rows[row_index] = {}\n",
    "                        \n",
    "                        # Get text from cell\n",
    "                        text = \"\"\n",
    "                        if 'Relationships' in cell:\n",
    "                            for rel in cell['Relationships']:\n",
    "                                if rel['Type'] == 'CHILD':\n",
    "                                    for word_id in rel['Ids']:\n",
    "                                        word = blocks_map[word_id]\n",
    "                                        if word['BlockType'] == 'WORD':\n",
    "                                            text += word['Text'] + ' '\n",
    "                        \n",
    "                        rows[row_index][col_index] = text.strip()\n",
    "        \n",
    "        # Convert to CSV-like string\n",
    "        for row_index in sorted(rows.keys()):\n",
    "            csv_row = \"\"\n",
    "            for col_index in sorted(rows[row_index].keys()):\n",
    "                csv_row += f\"{rows[row_index][col_index]},\"\n",
    "            result_string += csv_row + \"\\n\"\n",
    "        \n",
    "        # Add a blank line between tables if there are multiple\n",
    "        if table_index < len(table_blocks) - 1:\n",
    "            result_string += \"\\n\"\n",
    "    \n",
    "    return result_string\n",
    "\n",
    "# Call the function with the response\n",
    "table_string = get_table_data_as_string(response)\n",
    "\n",
    "# Now you can use the returned string however you want\n",
    "print(table_string)\n"
   ]
  },
  {
   "cell_type": "code",
   "execution_count": 9,
   "metadata": {},
   "outputs": [
    {
     "data": {
      "text/plain": [
       "'Table 1:\\nMedicine Name,Dosage,Duration,\\n1) TAB. DEMO MEDICINE 1,1 Morning, 1 Night (Before Food),10 Days (Tot:20 Tab),\\n2) CAP. DEMO MEDICINE 2,1 Morning, 1 Night (Before Food),10 Days (Tot:20 Cap),\\n3) TAB. DEMO MEDICINE 3,1 Morning, 1 Aft, 1 Eve, 1 Night (After Food),10 Days (Tot:40 Tab),\\n4) TAB. DEMO MEDICINE 4,1/2 Morning, 1/2 Night (After Food),10 Days (Tot:10 Tab),\\n'"
      ]
     },
     "execution_count": 9,
     "metadata": {},
     "output_type": "execute_result"
    }
   ],
   "source": [
    "table_string"
   ]
  },
  {
   "cell_type": "code",
   "execution_count": 10,
   "metadata": {},
   "outputs": [],
   "source": [
    "sys_prompt = \"\"\"\n",
    "You are a medical prescription assistant. You have been given a text extracted from a prescription.\n",
    "It might be in a raw format or in a table format. Your task is to extract the information and give it in JSON.\n",
    "GIVE THE OUTPUT STRICTLY IN A JSON FORMAT. DO NOT INCLUDE ANY OTHER TEXT OR EXPLANATION.\n",
    "Output format:\n",
    "                [\n",
    "                    {\n",
    "                        \"medicine\": \"Medication A\",\n",
    "                        \"frequency\": \"1-0-1\",\n",
    "                        \"duration\": \"7 days\",\n",
    "                        \"special_instructions\": \"Before food\"\n",
    "                    },\n",
    "                    {\n",
    "                        \"medicine\": \"Medication B\",\n",
    "                        \"frequency\": \"1-0-0\",\n",
    "                        \"duration\": \"7 days\",\n",
    "                        \"special_instructions\": \"After Food\"\n",
    "                    }\n",
    "                ]\n",
    "                So frequency is the time of day when the medicine should be taken, it may be mentioned as Morning, Night, Aft, Eve etc. or may be mentioned as 1-0-1, 0-1-0 etc. If it is mentioned as day and night, you should put it as 1-0-1. Just night means 0-0-1.\n",
    "                Duration is the number of days for which the medicine should be taken. It may be mentioned as 7 days, 10 days etc.\n",
    "                Special instructions are any special instructions given by the doctor. If there are no special instructions, please mention it as None.\n",
    "\"\"\""
   ]
  },
  {
   "cell_type": "code",
   "execution_count": 11,
   "metadata": {},
   "outputs": [
    {
     "name": "stdout",
     "output_type": "stream",
     "text": [
      "[\n",
      "    {\n",
      "        \"medicine\": \"TAB. DEMO MEDICINE 1\",\n",
      "        \"frequency\": \"1-0-1\",\n",
      "        \"duration\": \"10 days\",\n",
      "        \"special_instructions\": \"Before Food\"\n",
      "    },\n",
      "    {\n",
      "        \"medicine\": \"CAP. DEMO MEDICINE 2\",\n",
      "        \"frequency\": \"1-0-1\",\n",
      "        \"duration\": \"10 days\",\n",
      "        \"special_instructions\": \"Before Food\"\n",
      "    },\n",
      "    {\n",
      "        \"medicine\": \"TAB. DEMO MEDICINE 3\",\n",
      "        \"frequency\": \"1-1-1-1\",\n",
      "        \"duration\": \"10 days\",\n",
      "        \"special_instructions\": \"After Food\"\n",
      "    },\n",
      "    {\n",
      "        \"medicine\": \"TAB. DEMO MEDICINE 4\",\n",
      "        \"frequency\": \"0.5-0-0-0.5\",\n",
      "        \"duration\": \"10 days\",\n",
      "        \"special_instructions\": \"After Food\"\n",
      "    }\n",
      "]\n"
     ]
    }
   ],
   "source": [
    "bot_response = llm.invoke([\n",
    "    SystemMessage(content=sys_prompt),\n",
    "    HumanMessage(content=table_string),\n",
    "])\n",
    "\n",
    "print(bot_response.content)"
   ]
  },
  {
   "cell_type": "code",
   "execution_count": 13,
   "metadata": {},
   "outputs": [
    {
     "data": {
      "text/plain": [
       "{'input_tokens': 453, 'output_tokens': 199, 'total_tokens': 652}"
      ]
     },
     "execution_count": 13,
     "metadata": {},
     "output_type": "execute_result"
    }
   ],
   "source": [
    "bot_response.usage_metadata"
   ]
  },
  {
   "cell_type": "code",
   "execution_count": null,
   "metadata": {},
   "outputs": [],
   "source": []
  }
 ],
 "metadata": {
  "kernelspec": {
   "display_name": "ML",
   "language": "python",
   "name": "python3"
  },
  "language_info": {
   "codemirror_mode": {
    "name": "ipython",
    "version": 3
   },
   "file_extension": ".py",
   "mimetype": "text/x-python",
   "name": "python",
   "nbconvert_exporter": "python",
   "pygments_lexer": "ipython3",
   "version": "3.13.0"
  }
 },
 "nbformat": 4,
 "nbformat_minor": 2
}
